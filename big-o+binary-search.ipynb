{
 "cells": [
  {
   "cell_type": "markdown",
   "metadata": {},
   "source": [
    "# Data structure et algorithmes\n",
    "\n",
    "## Introduction \n",
    "\n",
    "Les **structures de données et les algorithmes** constituent le cœur fondamental de l'informatique. Ensemble, ils permettent de créer des fondations solides sur lesquelles reposent tous les programmes informatiques, des plus simples applications mobiles aux systèmes complexes qui gèrent des milliards de transactions par jour. Les structures de données permettent d'organiser et de stocker des données de manière efficace, tandis que les algorithmes décrivent les étapes que l'ordinateur doit suivre pour effectuer une tâche ou résoudre un problème particulier. Maîtriser ces deux éléments est essentiel pour tout développeur qui souhaite concevoir des solutions efficaces et performantes. Dans le monde en constante évolution de la technologie, où les données sont reines et les problèmes deviennent de plus en plus complexes, posséder une solide compréhension des structures de données et des algorithmes est plus important que jamais.\n",
    "\n",
    "## 1. Pourquoi apprendre les structures de données et les algorithmes ?\n",
    "\n",
    "Que vous fassiez carrière dans le développement classique ou la science des données, il est probable  que l'on vous demandera de résoudre des problèmes de programmation tels que l'inversion d'une *link list* ou l'équilibrage d'un *binary tree* lors d'un entretien technique.\n",
    "\n",
    "Toutefois, il est possible que vous ne soyez jamais confronté à ces problèmes dans le cadre de votre travail. Il est donc normal de se demander pourquoi ces problèmes sont posés lors d'entretiens et d'évaluations de codage. Ces tests servent avant tout à évaluer votre capacité à résoudre des problèmes et notamment à évaluer les compétences suivantes :\n",
    "\n",
    "- Vous pouvez réfléchir à un problème de manière systématique et le résoudre étape par étape.\n",
    "- Vous pouvez envisager différentes inputs, outputs et cas extrêmes.\n",
    "- Vous pouvez communiquer clairement vos idées à vos collègues et intégrer leurs suggestions.\n",
    "- Vous pouvez convertir vos pensées et vos idées en un code fonctionnel et lisible.\n",
    "  \n",
    "Ce n'est pas votre connaissance des _data structure_ ou des algorithmes spécifiques qui est testée lors d'un entretien, mais votre approche du problème. Vous pouvez ne pas réussir à résoudre le problème et réussir l'entretien ou vice versa. \n",
    "\n",
    "Dans ce cours, vous apprendrez une méthode systématique afin de résoudre des problèmes de programmation. Vous pourrez vous mettre en pratique ces compétences sur les différentes plateformes d'exercices de programmation."
   ]
  },
  {
   "cell_type": "markdown",
   "metadata": {},
   "source": [
    "## 2. La Notion de Big O\n",
    "\n",
    "Lorsqu'on se plonge dans le monde de l'informatique et de la programmation, il est fréquent de se poser la question de l'**efficacité des algorithmes**. Imaginez que vous ayez deux morceaux de code, nommés Code 1 et Code 2, et que vous souhaitiez déterminer lequel est le plus performant. Une approche simpliste serait de lancer les deux codes et de chronométrer le temps qu'ils mettent à s'exécuter. Toutefois, cette méthode présente des limites.\n",
    "\n",
    "Le terme \"*time complexity*\" que l'on peut traduire par \"complexité temporelle\" ne fait pas réellement allusion au temps réel d'exécution. En effet, si on se basait uniquement sur le temps d'exécution, alors un ordinateur plus puissant exécuterait toujours le code plus rapidement qu'un autre moins puissant, indépendamment de l'efficacité du code lui-même. Pour éviter cette confusion, on préfère mesurer la complexité temporelle en termes d'opérations effectuées plutôt qu'en secondes.\n",
    "\n",
    "C'est ici qu'intervient la notion de **Big O**. Elle permet de quantifier la performance d'un algorithme en fonction de la taille de l'entrée. Par exemple, si un algorithme a une complexité temporelle en *O*(*n*), cela signifie que le nombre d'opérations qu'il exécute est proportionnel à la taille de l'entrée.\n",
    "\n",
    "Mais la performance ne se mesure pas uniquement en termes de temps. Il y a également la \"space complexity\" ou \"complexité spatiale\", qui évalue la quantité de mémoire ou d'espace disque consommée par un algorithme. Dans certains cas, il peut être judicieux de faire des compromis entre la complexité temporelle et spatiale, selon les besoins et contraintes du scénario d'application.\n",
    "\n",
    "En somme, la notion de Big O est cruciale pour évaluer et comparer l'efficacité des algorithmes, et elle est souvent abordée lors des entretiens techniques pour évaluer la capacité d'un candidat à penser de manière optimale.\n",
    "\n",
    "### A. Le pire ou le meilleur des cas\n",
    "\n",
    "La notation Big O est souvent associée à trois lettres grecques qui représentent différentes manières de caractériser la performance d'un algorithme. Ces lettres sont :\n",
    "\n",
    "1. **Omicron (*O*)** : Cette lettre est utilisée dans la notation \"Big O\" proprement dite. Elle décrit la limite supérieure de la complexité d'un algorithme. Lorsqu'on dit qu'un algorithme a une complexité de *O*(*n*), cela signifie que, dans le pire des cas, le temps d'exécution de l'algorithme augmentera au plus linéairement avec la taille de l'entrée.\n",
    "2. **Theta (Θ)** : Cette notation est utilisée pour décrire un cas où la limite supérieure et la limite inférieure de la complexité d'un algorithme sont les mêmes. En d'autres termes, cela signifie que la croissance du temps d'exécution de l'algorithme est exactement celle spécifiée par la notation. Par exemple, si un algorithme a une complexité de Θ(*n*), cela signifie que son temps d'exécution augmentera linéairement avec la taille de l'entrée, ni plus rapidement ni plus lentement.\n",
    "3. **Omega (Ω)** : Cette lettre est utilisée pour décrire la limite inférieure de la complexité d'un algorithme. Elle donne une garantie sur le temps d'exécution minimum que l'algorithme prendra. Par exemple, si un algorithme a une complexité de Ω(*n*), cela signifie que, dans le meilleur des cas, le temps d'exécution de l'algorithme augmentera au moins linéairement avec la taille de l'entrée.\n",
    "\n",
    "En combinant ces trois notations, on peut avoir une image complète de la manière dont la performance d'un algorithme évolue en fonction de la taille de ses entrées.\n",
    "\n",
    "Cependant, lorsqu'on parle de la notation Big O, on se réfère généralement au \"pire scénario\", c'est-à-dire la performance la plus mauvaise que l'on peut attendre d'un algorithme face à une taille d'entrée donnée. En revanche, les notations Θ et Ω offrent une perspective plus complète, couvrant respectivement le \"comportement moyen\" et le \"meilleur scénario\" d'un algorithme.\n",
    "\n",
    "### B. O(n) en exemple"
   ]
  },
  {
   "cell_type": "code",
   "execution_count": 2,
   "metadata": {},
   "outputs": [
    {
     "name": "stdout",
     "output_type": "stream",
     "text": [
      "1\n",
      "2\n",
      "3\n",
      "4\n",
      "5\n",
      "6\n",
      "7\n",
      "8\n",
      "9\n",
      "10\n"
     ]
    }
   ],
   "source": [
    "liste_de_nombres = [1, 2, 3, 4, 5, 6, 7, 8, 9, 10]\n",
    "\n",
    "for nombre in liste_de_nombres:\n",
    "    print(nombre)"
   ]
  },
  {
   "cell_type": "markdown",
   "metadata": {},
   "source": [
    "### C. La recherche dans une liste\n",
    "\n",
    "L'un des problèmes fondamentaux en informatique est la recherche d'une valeur spécifique dans une structure de données. Supposons que nous ayons une liste d'éléments et que nous souhaitons savoir si un élément particulier s'y trouve. Comment aborderions-nous ce problème ? La réponse dépend de plusieurs facteurs, tels que si la liste est triée, la taille de la liste, et combien de temps nous sommes prêts à passer à chercher.\n",
    "\n",
    "**Recherche linéaire** :\n",
    "La méthode la plus directe et la plus simple pour rechercher une valeur dans une liste est **la recherche linéaire**. Elle implique de parcourir chaque élément de la liste un par un jusqu'à ce que l'élément recherché soit trouvé ou que la fin de la liste soit atteinte.\n",
    "\n",
    "Exemple en Python :"
   ]
  },
  {
   "cell_type": "code",
   "execution_count": 3,
   "metadata": {},
   "outputs": [
    {
     "data": {
      "text/plain": [
       "True"
      ]
     },
     "execution_count": 3,
     "metadata": {},
     "output_type": "execute_result"
    }
   ],
   "source": [
    "def recherche_lineaire(liste, valeur_recherchee):\n",
    "    for i in range(len(liste)):\n",
    "        if liste[i] == valeur_recherchee:\n",
    "            return True\n",
    "    return False\n",
    "\n",
    "liste_de_nombres = [4, 2, 7, 1, 9, 3, 5]\n",
    "valeur = 5\n",
    "recherche_lineaire(liste_de_nombres, valeur)"
   ]
  },
  {
   "cell_type": "markdown",
   "metadata": {},
   "source": [
    "Dans cet exemple, la fonction recherche_lineaire parcourt chaque élément de liste_de_nombres à la recherche de valeur. Si valeur est trouvée, la fonction renvoie True. Sinon, elle renvoie False.\n",
    "\n",
    "Concernant la complexité de la recherche linéaire :\n",
    "\n",
    "**Omicron (O)** - Pire scénario (Big O) :\n",
    "Si la valeur recherchée est le dernier élément de la liste ou n'y est pas du tout, nous devons parcourir tous les éléments. C'est une complexité de O(n), où n est la taille de la liste.\n",
    "\n",
    "**Omega (Ω)** - Meilleur scénario :\n",
    "Si la valeur recherchée est le premier élément de la liste ou se trouve très tôt dans la liste, alors la complexité est Ω(1), car une seule vérification (ou quelques vérifications) suffit.\n",
    "\n",
    "Dans le cas de la recherche linéaire, il n'est pas pertinent de définir **Θ** car la limite supérieure et la limite inférieure ne sont pas les mêmes\n",
    "\n",
    "La recherche linéaire est simple et fonctionne pour toute liste, triée ou non. Cependant, elle peut ne pas être la plus efficace, surtout si la liste est grande. Dans les sections suivantes, nous explorerons d'autres méthodes de recherche qui peuvent être plus efficaces dans certaines conditions."
   ]
  },
  {
   "cell_type": "markdown",
   "metadata": {},
   "source": [
    "### D. Concept de Proportionnalité\n",
    "\n",
    "Lorsqu'on évalue la performance d'un algorithme, l'une des notions clés à comprendre est la proportionnalité. Elle décrit comment le temps d'exécution de l'algorithme varie en fonction de la taille de l'entrée.\n",
    "\n",
    "Prenons l'exemple de la recherche linéaire. Dans cette approche, pour trouver un élément spécifique dans une liste, on parcourt chaque élément un par un jusqu'à ce qu'on le trouve ou que la fin de la liste soit atteinte.\n",
    "\n",
    "**Proportionnalité directe** : Si notre liste a 10 éléments, nous pourrions avoir à vérifier 10 éléments dans le pire des cas. Si notre liste a 100 éléments, nous pourrions avoir à vérifier 100 éléments. La recherche linéaire a une complexité de O(n). Cela signifie que le temps d'exécution est directement proportionnel à la taille de l'entrée. Si la taille de l'entrée double, le temps d'exécution doublera également.\n",
    "\n",
    "**Indépendance de la taille d'entrée** : Certains algorithmes ont une complexité de \n",
    "O(1), ce qui signifie que leur temps d'exécution est constant et ne dépend pas de la taille de l'entrée. Le temps d'exécution n'est pas proportionnel à la taille de l'entrée et reste le même quelle que soit cette taille.\n",
    "\n",
    "**Proportionnalité quadratique** : D'autres algorithmes peuvent avoir une complexité de \n",
    "O(n²). Cela signifie que le temps d'exécution est proportionnel au carré de la taille de l'entrée. Ainsi, si la taille de l'entrée double, le temps d'exécution pourrait être multiplié par quatre.\n",
    "\n",
    "La compréhension de cette proportionnalité est fondamentale lors de la conception d'algorithmes. Elle permet aux développeurs de prévoir comment la performance de leurs algorithmes évoluera à mesure que la taille des données traitées augmente, et de faire des choix éclairés pour répondre aux exigences spécifiques de leurs applications."
   ]
  },
  {
   "cell_type": "markdown",
   "metadata": {},
   "source": [
    "### E. Négliger les constantes\n",
    "\n",
    "Effectivement, lorsqu'on parle de la notation Big O, l'une des étapes importantes est de \"négliger les constantes\", aussi appelé \"dropping constants\" en anglais. Cela signifie que nous nous concentrons sur la croissance la plus dominante de la fonction et négligeons les termes constants ou moins dominants.\n",
    "\n",
    "La raison principale derrière cette simplification est que la notation Big O cherche à donner une vue de haut niveau de la manière dont le temps d'exécution évolue à mesure que la taille de l'entrée augmente. Dans ce contexte, les facteurs constants ont un impact relativement mineur, surtout lorsque la taille de l'entrée devient très grande.\n",
    "\n",
    "**Illustration avec du code Python** :\n",
    "\n",
    "Prenons l'exemple d'une fonction qui parcourt une liste deux fois :\n",
    "\n",
    "```python\n",
    "def process_list(lst):\n",
    "    for item in lst:  # Première boucle\n",
    "        print(item)\n",
    "\n",
    "    for item in lst:  # Seconde boucle\n",
    "        print(item)\n",
    "```\n",
    "\n",
    "Si la liste contient *n* éléments, la première boucle aura une complexité de *O*(*n*) et la seconde boucle aura également une complexité de *O*(*n*). La complexité totale serait donc *O*(2*n*).\n",
    "\n",
    "Cependant, en termes de notation Big O, nous négligerions la constante et dirions simplement que la complexité est *O*(*n*). C'est parce que le facteur dominant est la relation linéaire avec *n*, et le fait qu'il y ait deux boucles (ou même cent boucles) ne change pas cette relation linéaire fondamentale.\n",
    "\n",
    "En d'autres termes, que ce soit *n*, 2*n*, 200*n* ou toute autre constante multipliée par *n*, la croissance reste linéaire par rapport à *n*. Ainsi, pour simplifier et avoir une représentation claire de la croissance dominante, nous \"dropons les constantes\" et utilisons simplement *O*(*n*)."
   ]
  },
  {
   "cell_type": "markdown",
   "metadata": {},
   "source": [
    "### F. Quelques exemples de complexite temporelle :\n",
    "#### a. O(n²)"
   ]
  },
  {
   "cell_type": "code",
   "execution_count": 4,
   "metadata": {},
   "outputs": [
    {
     "name": "stdout",
     "output_type": "stream",
     "text": [
      "0 0\n",
      "0 1\n",
      "0 2\n",
      "0 3\n",
      "1 0\n",
      "1 1\n",
      "1 2\n",
      "1 3\n",
      "2 0\n",
      "2 1\n",
      "2 2\n",
      "2 3\n",
      "3 0\n",
      "3 1\n",
      "3 2\n",
      "3 3\n"
     ]
    }
   ],
   "source": [
    "def print_items(n):\n",
    "    for i in range(n):  # Première boucle\n",
    "        for j in range(n):\n",
    "            print(i,j)\n",
    "\n",
    "print_items(4)"
   ]
  },
  {
   "cell_type": "markdown",
   "metadata": {},
   "source": [
    "La fonction print_items contient une boucle imbriquée. La boucle extérieure (avec la variable i) s'exécute **n** fois. Pour chaque itération de la boucle extérieure, la boucle intérieure (avec la variable j) s'exécute également **n** fois.\n",
    "\n",
    "Ainsi, le nombre d'itérations de la fonction est **n×n**, ou **n²**. Par conséquent, le nombre total de fois que l'instruction **print(i,j)** est exécutée est **n²**.\n",
    "\n",
    "Cela signifie que la complexité temporelle de la fonction print_items est **O(n²)**. En d'autres termes, si **n** double, le temps d'exécution de la fonction augmentera d'un facteur de quatre. Cette croissance quadratique montre que la performance de la fonction se dégradera rapidement à mesure que **n** augmentera, ce qui est typique des algorithmes avec une complexité **O(n²)**."
   ]
  },
  {
   "cell_type": "markdown",
   "metadata": {},
   "source": [
    "Exercice :\n",
    "Quel est la complexité de la fonction ci-dessous ? Développer."
   ]
  },
  {
   "cell_type": "code",
   "execution_count": 5,
   "metadata": {},
   "outputs": [],
   "source": [
    "def print_items(n):\n",
    "    for i in range(n):\n",
    "        for j in range(n):\n",
    "            print(i,j)\n",
    "\n",
    "    for i in range(n):\n",
    "        print(n)"
   ]
  },
  {
   "cell_type": "markdown",
   "metadata": {},
   "source": [
    "Votre réponse : "
   ]
  },
  {
   "cell_type": "markdown",
   "metadata": {},
   "source": [
    "#### b. O(1)\n",
    "Quelle est la complexité de cette fonction ?"
   ]
  },
  {
   "cell_type": "code",
   "execution_count": 6,
   "metadata": {},
   "outputs": [],
   "source": [
    "def add(n):\n",
    "    return n + n"
   ]
  },
  {
   "cell_type": "markdown",
   "metadata": {},
   "source": [
    "Ici, nous avons deux opérations, on serait tenté de dire que la complexité est O(2) mais comme la complexité est constante, on \"drop les constantes\" et on simplifie l'expression par O(1). "
   ]
  },
  {
   "cell_type": "markdown",
   "metadata": {},
   "source": [
    "#### c. O(log n)\n",
    "Dans certains cas la fonction mathématique qui lie l'input et la compléxité est logarithmique.\n",
    "\n",
    "#### Rappel : Le Logarithme\n",
    "\n",
    "Le logarithme est l'opération inverse de la puissance. Si b<sup>y</sup>=x, alors log<sub>b</sub>(x)=y. En d'autres termes, le logarithme donne le nombre de fois qu'un certain nombre (la base) doit être multiplié par lui-même pour obtenir un autre nombre. Par exemple, en base 2, \n",
    "log<sub>2</sub>(8)=3 parce que 2<sup>3</sup>=8.\n",
    "\n",
    "La recherche binaire est un exemple d'algorithme avec une complexité O(log (n)), nous allons explorer en détail cette algorithme dans la partie suivante."
   ]
  },
  {
   "cell_type": "code",
   "execution_count": 7,
   "metadata": {},
   "outputs": [
    {
     "data": {
      "image/png": "[encoded data removed]",
      "text/plain": [
       "<Figure size 500x300 with 1 Axes>"
      ]
     },
     "metadata": {},
     "output_type": "display_data"
    }
   ],
   "source": [
    "import numpy as np\n",
    "import matplotlib.pyplot as plt\n",
    "import seaborn as sns\n",
    "\n",
    "# Génération des données\n",
    "n = np.linspace(50, 1, 50)\n",
    "o_1 = np.ones_like(n)\n",
    "o_n = n\n",
    "o_n2 = n**2\n",
    "o_logn = np.log(n)\n",
    "\n",
    "# Mise en place du graphique\n",
    "sns.set_style(\"whitegrid\")\n",
    "plt.figure(figsize=(5, 3))\n",
    "\n",
    "plt.plot(n, o_1, label=\"O(1)\", linewidth=2)\n",
    "plt.plot(n, o_n, label=\"O(n)\", linewidth=2)\n",
    "plt.plot(n, o_n2, label=\"O(n^2)\", linewidth=2)\n",
    "plt.plot(n, o_logn, label=\"O(log n)\", linewidth=2)\n",
    "\n",
    "plt.legend()\n",
    "plt.ylabel(\"Opérations\")\n",
    "plt.xlabel(\"Taille de l'entrée (n)\")\n",
    "plt.title(\"Comparaison des Complexités\")\n",
    "plt.ylim(0, 50)  # Limiter l'axe des ordonnées pour mieux visualiser O(log n) et O(n)\n",
    "plt.show()"
   ]
  },
  {
   "cell_type": "markdown",
   "metadata": {},
   "source": [
    "## 3. Introduction à la Recherche Binaire\n",
    "Nous allons nous intéresser à un probleme et explorer différents alogithmes qui nous permettrons d'arriver à une solution satisfaisante."
   ]
  },
  {
   "cell_type": "markdown",
   "metadata": {},
   "source": [
    "Question 1 : Maurice a quelques cartes avec des numéros écrits dessus. Il organise les cartes dans un ordre décroissant et les dispose face cachée en séquence sur une table. Il défie Isabelle de choisir la carte contenant un numéro donné en retournant le moins de cartes possible. Écrivez une fonction pour aider Isabelle à localiser la carte.\n",
    "![image](images/cartes-hide.png)"
   ]
  },
  {
   "cell_type": "markdown",
   "metadata": {},
   "source": [
    "### Quelle méthode utiliser pour résoudre ce problème ?\n",
    "À la lecture du problème, il se peut que vous ayez quelques idées sur la manière de le résoudre et que votre premier réflexe soit de commencer à écrire du code. Cette stratégie n'est pas optimale et vous risquez de passer plus de temps à essayer de résoudre le problème en raison d'erreurs de codage, voire de ne pas pouvoir le résoudre du tout.\n",
    "\n",
    "Voici une stratégie systématique que nous appliquerons pour résoudre les problèmes :\n",
    "\n",
    "1. Énoncer clairement le problème. Identifier les *inputs* et les *outputs*.\n",
    "2. Proposer des exemples d'*inputs* et d'*outputs*. Essayer de couvrir tous les cas de figure.\n",
    "3. Proposer une solution au problème en francais.\n",
    "4. Implémenter la solution et la tester à l'aide d'exemples d'inputs. Corrigez les bugs, le cas échéant.\n",
    "5. Analysez la complexité de l'algorithme et identifiez les inefficacités éventuelles.\n",
    "6. Améliorer votre approche afin de réduire la complexité. Répéter les étapes 3 à 6."
   ]
  },
  {
   "cell_type": "markdown",
   "metadata": {},
   "source": [
    "### 1. Énoncer clairement le problème. Identifier les *inputs* et les *outputs*."
   ]
  },
  {
   "cell_type": "markdown",
   "metadata": {},
   "source": [
    "![image](images/cartes-hide.png)"
   ]
  },
  {
   "cell_type": "markdown",
   "metadata": {},
   "source": [
    "Dans ce cas, par exemple, nous pouvons représenter la séquence de cartes comme une liste de nombres. Retourner une carte spécifique équivaut à accéder à la valeur du nombre à la position correspondante dans la liste."
   ]
  },
  {
   "cell_type": "markdown",
   "metadata": {},
   "source": [
    "![image](images/exemple.png)"
   ]
  },
  {
   "cell_type": "markdown",
   "metadata": {},
   "source": [
    "**Problème :**\n",
    "Nous devons écrire un programme pour trouver la position d'un nombre donné dans une liste de nombres classés par ordre décroissant. Nous devons également minimiser le nombre de fois où nous accédons aux éléments de la liste.\n",
    "\n",
    "**Inputs :**\n",
    "1. cartes : Une liste de nombres triés par ordre décroissant. Par exemple, [13, 11, 10, 7, 4, 3, 1, 0].\n",
    "2. requête : Un nombre dont la position dans le tableau doit être déterminée. Par exemple : 7\n",
    "\n",
    "**Output :**\n",
    "\n",
    "3. position : La position de la requête dans la liste des cartes. Par exemple, 3 dans le cas ci-dessus (en comptant à partir de 0)."
   ]
  },
  {
   "cell_type": "markdown",
   "metadata": {},
   "source": [
    "Comme on a défini le problème, on peut créer le modèle de la fonction :"
   ]
  },
  {
   "cell_type": "code",
   "execution_count": 8,
   "metadata": {},
   "outputs": [],
   "source": [
    "def locate_card(cards, query):\n",
    "    pass"
   ]
  },
  {
   "cell_type": "markdown",
   "metadata": {},
   "source": [
    "Conseils :\n",
    "\n",
    "- Nommez votre fonction de manière appropriée\n",
    "- Utilisez des noms de variables descriptifs, sinon vous risquez d'oublier ce qu'une variable représente.\n",
    "\n",
    "Dans le cas d'un entretien :\n",
    "- Discutez du problème avec votre interlocuteur si vous ne savez pas comment le formuler en langage clair."
   ]
  },
  {
   "cell_type": "markdown",
   "metadata": {},
   "source": [
    "### 2. Trouver des exemples d'inputs et d'outputs. Essayer de couvrir tous les cas de figure."
   ]
  },
  {
   "cell_type": "markdown",
   "metadata": {},
   "source": [
    "Avant de commencer à mettre en œuvre notre fonction, il serait utile de trouver quelques exemples d'entrées et de sorties que nous pourrons utiliser plus tard pour tester le problème. Nous les appellerons des cas de test.\n",
    "\n",
    "Voici le cas de test décrit dans l'exemple ci-dessus."
   ]
  },
  {
   "cell_type": "code",
   "execution_count": 9,
   "metadata": {},
   "outputs": [],
   "source": [
    "cards = [13, 11, 10, 7, 4, 3, 1, 0]\n",
    "query = 7\n",
    "output = 3"
   ]
  },
  {
   "cell_type": "markdown",
   "metadata": {},
   "source": [
    "Nous pouvons tester notre fonction en passant les entrées dans la fonction et en comparant le résultat avec la sortie attendue."
   ]
  },
  {
   "cell_type": "code",
   "execution_count": 10,
   "metadata": {},
   "outputs": [
    {
     "name": "stdout",
     "output_type": "stream",
     "text": [
      "None\n"
     ]
    }
   ],
   "source": [
    "result = locate_card(cards, query)\n",
    "print(result)"
   ]
  },
  {
   "cell_type": "code",
   "execution_count": 11,
   "metadata": {},
   "outputs": [
    {
     "data": {
      "text/plain": [
       "False"
      ]
     },
     "execution_count": 11,
     "metadata": {},
     "output_type": "execute_result"
    }
   ],
   "source": [
    "result == output"
   ]
  },
  {
   "cell_type": "markdown",
   "metadata": {},
   "source": [
    "Il est évident que les deux résultats ne correspondent pas à la sortie puisque nous n'avons pas encore implémenté la fonction.\n",
    "\n",
    "Nous représenterons nos cas de test sous forme de dictionnaires afin de faciliter les tests une fois que nous aurons écrit la mise en œuvre de notre fonction. Par exemple, le cas de test ci-dessus peut être représenté comme suit :"
   ]
  },
  {
   "cell_type": "code",
   "execution_count": 12,
   "metadata": {},
   "outputs": [],
   "source": [
    "test = {\n",
    "    'input': { \n",
    "        'cards': [13, 11, 10, 7, 4, 3, 1, 0], \n",
    "        'query': 7\n",
    "    },\n",
    "    'output': 3\n",
    "}"
   ]
  },
  {
   "cell_type": "code",
   "execution_count": 13,
   "metadata": {},
   "outputs": [
    {
     "data": {
      "text/plain": [
       "False"
      ]
     },
     "execution_count": 13,
     "metadata": {},
     "output_type": "execute_result"
    }
   ],
   "source": [
    "locate_card(**test['input']) == test['output']"
   ]
  },
  {
   "cell_type": "markdown",
   "metadata": {},
   "source": [
    "Notre fonction doit pouvoir traiter n'importe quel ensemble d'*inputs* valides que nous lui transmettons. Voici une liste des variations possibles que nous pourrions rencontrer :\n",
    "\n",
    "1. Le nombre `query` se trouve quelque part au milieu de la liste `cards`.\n",
    "2. `query` est le premier élément de `cartes`.\n",
    "3. `query` est le dernier élément de la liste `cartes`.\n",
    "4. La liste `cards` ne contient qu'un seul élément, qui est `query`.\n",
    "5. La liste `cards` ne contient pas le nombre `query`.\n",
    "6. La liste `cartes` est vide.\n",
    "7. La liste `cards` contient des nombres répétitifs.\n",
    "8. Le nombre `requête` se trouve à plus d'une position dans la liste `cartes`.\n",
    "9. (pouvez-vous penser à d'autres variantes ?)\n",
    "\n",
    "**Cas de figure** : Il est probable que vous n'ayez pas pensé à tous les cas ci-dessus lorsque vous avez lu le problème pour la première fois. Certains d'entre eux (comme une liste vide ou `query` qui n'apparaît pas dans `cards`) sont appelés *edge cases* ou *cas extrêmes*, car ils représentent des exemples rares ou extrêmes. \n",
    "\n",
    "Bien que les *edge cases* ne se produisent pas fréquemment, vos programmes doivent être capables de gérer tous les *edge cases*, sinon ils peuvent échouer de manière inattendue. Créons d'autres scénarios de test pour les variantes énumérées ci-dessus. Nous stockerons tous nos cas de test dans une liste pour faciliter les tests."
   ]
  },
  {
   "cell_type": "code",
   "execution_count": 14,
   "metadata": {},
   "outputs": [],
   "source": [
    "tests = []\n",
    "\n",
    "# query occurs in the middle\n",
    "tests.append(test)\n",
    "\n",
    "tests.append({\n",
    "    'input': {\n",
    "        'cards': [13, 11, 10, 7, 4, 3, 1, 0],\n",
    "        'query': 1\n",
    "    },\n",
    "    'output': 6\n",
    "})\n",
    "\n",
    "# query is the first element\n",
    "tests.append({\n",
    "    'input': {\n",
    "        'cards': [4, 2, 1, -1],\n",
    "        'query': 4\n",
    "    },\n",
    "    'output': 0\n",
    "})\n",
    "\n",
    "# query is the last element\n",
    "tests.append({\n",
    "    'input': {\n",
    "        'cards': [3, -1, -9, -127],\n",
    "        'query': -127\n",
    "    },\n",
    "    'output': 3\n",
    "})\n",
    "\n",
    "# cards contains just one element, query\n",
    "tests.append({\n",
    "    'input': {\n",
    "        'cards': [6],\n",
    "        'query': 6\n",
    "    },\n",
    "    'output': 0 \n",
    "})"
   ]
  },
  {
   "cell_type": "markdown",
   "metadata": {},
   "source": [
    "L'énoncé du problème ne précise pas ce qu'il faut faire si la liste `cards` ne contient pas le nombre `query`. \n",
    "\n",
    "1. Relisez attentivement l'énoncé du problème.\n",
    "2. Examinez les exemples fournis avec le problème.\n",
    "3. Demandez des précisions à l'intervieweur/à la plate-forme.\n",
    "4. Faites une hypothèse raisonnable, énoncez-la et allez de l'avant.\n",
    "\n",
    "Nous supposerons que notre fonction retournera `-1` au cas où `cards` ne contiendrait pas `query`."
   ]
  },
  {
   "cell_type": "code",
   "execution_count": 15,
   "metadata": {},
   "outputs": [],
   "source": [
    "# cards does not contain query \n",
    "tests.append({\n",
    "    'input': {\n",
    "        'cards': [9, 7, 5, 2, -9],\n",
    "        'query': 4\n",
    "    },\n",
    "    'output': -1\n",
    "})\n",
    "\n",
    "\n",
    "# cards is empty\n",
    "tests.append({\n",
    "    'input': {\n",
    "        'cards': [],\n",
    "        'query': 7\n",
    "    },\n",
    "    'output': -1\n",
    "})\n",
    "\n",
    "\n",
    "# numbers can repeat in cards\n",
    "tests.append({\n",
    "    'input': {\n",
    "        'cards': [8, 8, 6, 6, 6, 6, 6, 3, 2, 2, 2, 0, 0, 0],\n",
    "        'query': 3\n",
    "    },\n",
    "    'output': 7\n",
    "})"
   ]
  },
  {
   "cell_type": "markdown",
   "metadata": {},
   "source": [
    "Dans le cas où `query` apparaît plusieurs fois dans `cards`, nous nous attendons à ce que notre fonction retourne la première occurrence de `query`. \n",
    "\n",
    "Bien qu'il soit également acceptable que la fonction retourne n'importe quelle position où `query` apparaît dans la liste, il serait un peu plus difficile de tester la fonction, puisque la sortie n'est pas déterministe."
   ]
  },
  {
   "cell_type": "code",
   "execution_count": 16,
   "metadata": {},
   "outputs": [],
   "source": [
    "# query occurs multiple times\n",
    "tests.append({\n",
    "    'input': {\n",
    "        'cards': [8, 8, 6, 6, 6, 6, 6, 6, 3, 2, 2, 2, 0, 0, 0],\n",
    "        'query': 6\n",
    "    },\n",
    "    'output': 2\n",
    "})"
   ]
  },
  {
   "cell_type": "code",
   "execution_count": 17,
   "metadata": {},
   "outputs": [
    {
     "data": {
      "text/plain": [
       "[{'input': {'cards': [13, 11, 10, 7, 4, 3, 1, 0], 'query': 7}, 'output': 3},\n",
       " {'input': {'cards': [13, 11, 10, 7, 4, 3, 1, 0], 'query': 1}, 'output': 6},\n",
       " {'input': {'cards': [4, 2, 1, -1], 'query': 4}, 'output': 0},\n",
       " {'input': {'cards': [3, -1, -9, -127], 'query': -127}, 'output': 3},\n",
       " {'input': {'cards': [6], 'query': 6}, 'output': 0},\n",
       " {'input': {'cards': [9, 7, 5, 2, -9], 'query': 4}, 'output': -1},\n",
       " {'input': {'cards': [], 'query': 7}, 'output': -1},\n",
       " {'input': {'cards': [8, 8, 6, 6, 6, 6, 6, 3, 2, 2, 2, 0, 0, 0], 'query': 3},\n",
       "  'output': 7},\n",
       " {'input': {'cards': [8, 8, 6, 6, 6, 6, 6, 6, 3, 2, 2, 2, 0, 0, 0],\n",
       "   'query': 6},\n",
       "  'output': 2}]"
      ]
     },
     "execution_count": 17,
     "metadata": {},
     "output_type": "execute_result"
    }
   ],
   "source": [
    "tests"
   ]
  },
  {
   "cell_type": "markdown",
   "metadata": {},
   "source": [
    "Nous disposons à présent d'un ensemble relativement exhaustif de cas de test pour évaluer notre fonction. \n",
    "\n",
    "La création préalable de cas de test vous permet d'identifier à l'avance les différentes variations et les cas extrêmes, de sorte que vous puissiez vous assurer de les traiter lors de l'écriture du code. \n",
    "\n",
    "\n",
    "Note : Pas de panique si vous ne parvenez pas à dresser une liste exhaustive des cas de test. Vous pouvez revenir à cette section et ajouter d'autres cas de test au fur et à mesure que vous en découvrez. Trouver de bons scénarios de test est une compétence qui demande de la pratique."
   ]
  },
  {
   "cell_type": "markdown",
   "metadata": {},
   "source": [
    "### 3. Proposer une solution au problème en francais"
   ]
  },
  {
   "cell_type": "markdown",
   "metadata": {},
   "source": [
    "Notre premier objectif doit toujours être de trouver une solution _valable_ au problème, qui peut ne pas être nécessairement être la solution la plus _efficace_.La solution la plus simple ou la plus évidente à un problème, qui implique généralement de vérifier toutes les réponses possibles, est appelée solution \"brute\".\n",
    "\n",
    "Dans ce problème, il est assez facile de trouver une solution _valable_ : Bob peut simplement retourner les cartes dans l'ordre, une par une, jusqu'à ce qu'il trouve une carte portant le numéro donné. Voici comment nous pourrions mettre en œuvre cette solution :\n",
    "\n",
    "1. Créer une variable `position` avec la valeur 0.\n",
    "2. Vérifier si le nombre à l'index `position` dans `cards` est égal à `query`.\n",
    "3. Si c'est le cas, `position` est la réponse et peut être retourné par la fonction\n",
    "4. Si ce n'est pas le cas, on incrémente la valeur de `position` de 1, et on répète les étapes 2 à 5 jusqu'à ce qu'on atteigne la dernière position.\n",
    "5. Si le nombre n'a pas été trouvé, renvoyez `-1`.\n",
    "\n",
    "**Algorithme de recherche linéaire** : Félicitations, nous venons d'écrire notre premier _algorithme_ ! Un algorithme est simplement une liste d'instructions qui peuvent être converties en code et exécutées par un ordinateur sur différents ensembles d'entrées. Cet algorithme particulier est appelé recherche linéaire, car il consiste à parcourir une liste de manière linéaire, c'est-à-dire élément après élément.\n",
    "\n",
    "Conseil : Essayez toujours d'exprimer (parler ou écrire) l'algorithme avec vos propres mots avant de commencer à coder. Il peut être aussi bref ou détaillé que vous le souhaitez. L'écriture est un excellent outil pour penser clairement.Il est probable que vous trouverez certaines parties de la solution difficiles à exprimer, ce qui suggère que vous n'êtes probablement pas en mesure d'y réfléchir clairement. Plus vous serez capable d'exprimer clairement vos pensées, plus il vous sera facile de les transformer en code."
   ]
  },
  {
   "cell_type": "markdown",
   "metadata": {},
   "source": [
    "### 4. Implémenter la solution et la tester à l'aide d'exemples d'inputs. Corrigez les bugs, le cas échéant."
   ]
  },
  {
   "cell_type": "markdown",
   "metadata": {},
   "source": [
    "Nous sommes enfin prêts à mettre en œuvre notre solution. \n",
    "\n",
    "Tout le travail que nous avons effectué jusqu'à présent sera certainement utile, car nous savons maintenant exactement ce que nous voulons que notre fonction fasse, et nous disposons d'un moyen facile de la tester sur une variété d'entrées.\n",
    "\n",
    "Voici une première tentative de mise en œuvre de la fonction."
   ]
  },
  {
   "cell_type": "code",
   "execution_count": 18,
   "metadata": {},
   "outputs": [],
   "source": [
    "def locate_card(cards, query):\n",
    "    # Create a variable position with the value 0\n",
    "    position = 0\n",
    "    \n",
    "    # Set up a loop for repetition\n",
    "    while True:\n",
    "        \n",
    "        # Check if element at the current position matche the query\n",
    "        if cards[position] == query:\n",
    "            \n",
    "            # Answer found! Return and exit..\n",
    "            return position\n",
    "        \n",
    "        # Increment the position\n",
    "        position += 1\n",
    "        \n",
    "        # Check if we have reached the end of the array\n",
    "        if position == len(cards):\n",
    "            \n",
    "            # Number not found, return -1\n",
    "            return -1"
   ]
  },
  {
   "cell_type": "markdown",
   "metadata": {},
   "source": [
    "Testons la fonction avec le premier cas de test"
   ]
  },
  {
   "cell_type": "code",
   "execution_count": 19,
   "metadata": {},
   "outputs": [
    {
     "data": {
      "text/plain": [
       "{'input': {'cards': [13, 11, 10, 7, 4, 3, 1, 0], 'query': 7}, 'output': 3}"
      ]
     },
     "execution_count": 19,
     "metadata": {},
     "output_type": "execute_result"
    }
   ],
   "source": [
    "\n",
    "test"
   ]
  },
  {
   "cell_type": "code",
   "execution_count": 20,
   "metadata": {},
   "outputs": [
    {
     "data": {
      "text/plain": [
       "3"
      ]
     },
     "execution_count": 20,
     "metadata": {},
     "output_type": "execute_result"
    }
   ],
   "source": [
    "result = locate_card(test['input']['cards'], test['input']['query'])\n",
    "result"
   ]
  },
  {
   "cell_type": "code",
   "execution_count": 21,
   "metadata": {},
   "outputs": [
    {
     "data": {
      "text/plain": [
       "True"
      ]
     },
     "execution_count": 21,
     "metadata": {},
     "output_type": "execute_result"
    }
   ],
   "source": [
    "result == test['output']"
   ]
  },
  {
   "cell_type": "code",
   "execution_count": 22,
   "metadata": {},
   "outputs": [
    {
     "data": {
      "text/plain": [
       "{'input': {'cards': [13, 11, 10, 7, 4, 3, 1, 0], 'query': 7}, 'output': 3}"
      ]
     },
     "execution_count": 22,
     "metadata": {},
     "output_type": "execute_result"
    }
   ],
   "source": [
    "tests[0]"
   ]
  },
  {
   "cell_type": "code",
   "execution_count": 23,
   "metadata": {},
   "outputs": [],
   "source": [
    "def evaluate_test_case(test_dict, func):\n",
    "    try:\n",
    "        output = func(**test_dict['input'])\n",
    "    except Exception as e:\n",
    "        output = str(e)\n",
    "\n",
    "    test_result = \"\"\n",
    "    if output == test_dict['output']:\n",
    "        test_result = \"PASSED\"\n",
    "    else : \n",
    "        test_result = \"FAILED\"\n",
    "\n",
    "    return f\"\"\"Input : \n",
    "    {test_dict['input']}\n",
    "\n",
    "    Expected Output :\n",
    "    {test_dict['output']}\n",
    "\n",
    "    Actual Output :\n",
    "    {output}\n",
    "\n",
    "    Test result :\n",
    "    {test_result}\n",
    "    \"\"\"\n",
    "    "
   ]
  },
  {
   "cell_type": "code",
   "execution_count": 24,
   "metadata": {},
   "outputs": [
    {
     "name": "stdout",
     "output_type": "stream",
     "text": [
      "Input : \n",
      "    {'cards': [13, 11, 10, 7, 4, 3, 1, 0], 'query': 7}\n",
      "\n",
      "    Expected Output :\n",
      "    3\n",
      "\n",
      "    Actual Output :\n",
      "    3\n",
      "\n",
      "    Test result :\n",
      "    PASSED\n",
      "    \n"
     ]
    }
   ],
   "source": [
    "print(evaluate_test_case(test, locate_card))"
   ]
  },
  {
   "cell_type": "code",
   "execution_count": 25,
   "metadata": {},
   "outputs": [],
   "source": [
    "def evaluate_tests_case(tests_list, func):\n",
    "    for test_case in tests_list:\n",
    "        print(evaluate_test_case(test_case, func))"
   ]
  },
  {
   "cell_type": "code",
   "execution_count": 26,
   "metadata": {},
   "outputs": [
    {
     "data": {
      "text/plain": [
       "[{'input': {'cards': [13, 11, 10, 7, 4, 3, 1, 0], 'query': 7}, 'output': 3},\n",
       " {'input': {'cards': [13, 11, 10, 7, 4, 3, 1, 0], 'query': 1}, 'output': 6},\n",
       " {'input': {'cards': [4, 2, 1, -1], 'query': 4}, 'output': 0},\n",
       " {'input': {'cards': [3, -1, -9, -127], 'query': -127}, 'output': 3},\n",
       " {'input': {'cards': [6], 'query': 6}, 'output': 0},\n",
       " {'input': {'cards': [9, 7, 5, 2, -9], 'query': 4}, 'output': -1},\n",
       " {'input': {'cards': [], 'query': 7}, 'output': -1},\n",
       " {'input': {'cards': [8, 8, 6, 6, 6, 6, 6, 3, 2, 2, 2, 0, 0, 0], 'query': 3},\n",
       "  'output': 7},\n",
       " {'input': {'cards': [8, 8, 6, 6, 6, 6, 6, 6, 3, 2, 2, 2, 0, 0, 0],\n",
       "   'query': 6},\n",
       "  'output': 2}]"
      ]
     },
     "execution_count": 26,
     "metadata": {},
     "output_type": "execute_result"
    }
   ],
   "source": [
    "tests"
   ]
  },
  {
   "cell_type": "code",
   "execution_count": 27,
   "metadata": {},
   "outputs": [
    {
     "name": "stdout",
     "output_type": "stream",
     "text": [
      "Input : \n",
      "    {'cards': [13, 11, 10, 7, 4, 3, 1, 0], 'query': 7}\n",
      "\n",
      "    Expected Output :\n",
      "    3\n",
      "\n",
      "    Actual Output :\n",
      "    3\n",
      "\n",
      "    Test result :\n",
      "    PASSED\n",
      "    \n",
      "Input : \n",
      "    {'cards': [13, 11, 10, 7, 4, 3, 1, 0], 'query': 1}\n",
      "\n",
      "    Expected Output :\n",
      "    6\n",
      "\n",
      "    Actual Output :\n",
      "    6\n",
      "\n",
      "    Test result :\n",
      "    PASSED\n",
      "    \n",
      "Input : \n",
      "    {'cards': [4, 2, 1, -1], 'query': 4}\n",
      "\n",
      "    Expected Output :\n",
      "    0\n",
      "\n",
      "    Actual Output :\n",
      "    0\n",
      "\n",
      "    Test result :\n",
      "    PASSED\n",
      "    \n",
      "Input : \n",
      "    {'cards': [3, -1, -9, -127], 'query': -127}\n",
      "\n",
      "    Expected Output :\n",
      "    3\n",
      "\n",
      "    Actual Output :\n",
      "    3\n",
      "\n",
      "    Test result :\n",
      "    PASSED\n",
      "    \n",
      "Input : \n",
      "    {'cards': [6], 'query': 6}\n",
      "\n",
      "    Expected Output :\n",
      "    0\n",
      "\n",
      "    Actual Output :\n",
      "    0\n",
      "\n",
      "    Test result :\n",
      "    PASSED\n",
      "    \n",
      "Input : \n",
      "    {'cards': [9, 7, 5, 2, -9], 'query': 4}\n",
      "\n",
      "    Expected Output :\n",
      "    -1\n",
      "\n",
      "    Actual Output :\n",
      "    -1\n",
      "\n",
      "    Test result :\n",
      "    PASSED\n",
      "    \n",
      "Input : \n",
      "    {'cards': [], 'query': 7}\n",
      "\n",
      "    Expected Output :\n",
      "    -1\n",
      "\n",
      "    Actual Output :\n",
      "    list index out of range\n",
      "\n",
      "    Test result :\n",
      "    FAILED\n",
      "    \n",
      "Input : \n",
      "    {'cards': [8, 8, 6, 6, 6, 6, 6, 3, 2, 2, 2, 0, 0, 0], 'query': 3}\n",
      "\n",
      "    Expected Output :\n",
      "    7\n",
      "\n",
      "    Actual Output :\n",
      "    7\n",
      "\n",
      "    Test result :\n",
      "    PASSED\n",
      "    \n",
      "Input : \n",
      "    {'cards': [8, 8, 6, 6, 6, 6, 6, 6, 3, 2, 2, 2, 0, 0, 0], 'query': 6}\n",
      "\n",
      "    Expected Output :\n",
      "    2\n",
      "\n",
      "    Actual Output :\n",
      "    2\n",
      "\n",
      "    Test result :\n",
      "    PASSED\n",
      "    \n"
     ]
    }
   ],
   "source": [
    "evaluate_tests_case(tests, locate_card)"
   ]
  },
  {
   "cell_type": "markdown",
   "metadata": {},
   "source": [
    "Tous les tests réussissent sauf le cas où la liste est vide. Ici notre fonction nous renvoie une erreur : \"list index out of range\". \n",
    "\n",
    "Le problème vient de l'input avec une liste vide. Il faut modifier la fonction pour prendre en compte ce cas extrême, voici une solution :"
   ]
  },
  {
   "cell_type": "code",
   "execution_count": 28,
   "metadata": {},
   "outputs": [],
   "source": [
    "def locate_card(cards, query):\n",
    "    position = 0\n",
    "    while position < len(cards):\n",
    "        if cards[position] == query:\n",
    "            return position\n",
    "        position += 1\n",
    "    return -1"
   ]
  },
  {
   "cell_type": "code",
   "execution_count": 29,
   "metadata": {},
   "outputs": [
    {
     "data": {
      "text/plain": [
       "{'input': {'cards': [], 'query': 7}, 'output': -1}"
      ]
     },
     "execution_count": 29,
     "metadata": {},
     "output_type": "execute_result"
    }
   ],
   "source": [
    "tests[6]"
   ]
  },
  {
   "cell_type": "code",
   "execution_count": 30,
   "metadata": {},
   "outputs": [
    {
     "name": "stdout",
     "output_type": "stream",
     "text": [
      "Input : \n",
      "    {'cards': [], 'query': 7}\n",
      "\n",
      "    Expected Output :\n",
      "    -1\n",
      "\n",
      "    Actual Output :\n",
      "    -1\n",
      "\n",
      "    Test result :\n",
      "    PASSED\n",
      "    \n"
     ]
    }
   ],
   "source": [
    "print(evaluate_test_case(tests[6], locate_card))"
   ]
  },
  {
   "cell_type": "code",
   "execution_count": 31,
   "metadata": {},
   "outputs": [
    {
     "name": "stdout",
     "output_type": "stream",
     "text": [
      "Input : \n",
      "    {'cards': [13, 11, 10, 7, 4, 3, 1, 0], 'query': 7}\n",
      "\n",
      "    Expected Output :\n",
      "    3\n",
      "\n",
      "    Actual Output :\n",
      "    3\n",
      "\n",
      "    Test result :\n",
      "    PASSED\n",
      "    \n",
      "Input : \n",
      "    {'cards': [13, 11, 10, 7, 4, 3, 1, 0], 'query': 1}\n",
      "\n",
      "    Expected Output :\n",
      "    6\n",
      "\n",
      "    Actual Output :\n",
      "    6\n",
      "\n",
      "    Test result :\n",
      "    PASSED\n",
      "    \n",
      "Input : \n",
      "    {'cards': [4, 2, 1, -1], 'query': 4}\n",
      "\n",
      "    Expected Output :\n",
      "    0\n",
      "\n",
      "    Actual Output :\n",
      "    0\n",
      "\n",
      "    Test result :\n",
      "    PASSED\n",
      "    \n",
      "Input : \n",
      "    {'cards': [3, -1, -9, -127], 'query': -127}\n",
      "\n",
      "    Expected Output :\n",
      "    3\n",
      "\n",
      "    Actual Output :\n",
      "    3\n",
      "\n",
      "    Test result :\n",
      "    PASSED\n",
      "    \n",
      "Input : \n",
      "    {'cards': [6], 'query': 6}\n",
      "\n",
      "    Expected Output :\n",
      "    0\n",
      "\n",
      "    Actual Output :\n",
      "    0\n",
      "\n",
      "    Test result :\n",
      "    PASSED\n",
      "    \n",
      "Input : \n",
      "    {'cards': [9, 7, 5, 2, -9], 'query': 4}\n",
      "\n",
      "    Expected Output :\n",
      "    -1\n",
      "\n",
      "    Actual Output :\n",
      "    -1\n",
      "\n",
      "    Test result :\n",
      "    PASSED\n",
      "    \n",
      "Input : \n",
      "    {'cards': [], 'query': 7}\n",
      "\n",
      "    Expected Output :\n",
      "    -1\n",
      "\n",
      "    Actual Output :\n",
      "    -1\n",
      "\n",
      "    Test result :\n",
      "    PASSED\n",
      "    \n",
      "Input : \n",
      "    {'cards': [8, 8, 6, 6, 6, 6, 6, 3, 2, 2, 2, 0, 0, 0], 'query': 3}\n",
      "\n",
      "    Expected Output :\n",
      "    7\n",
      "\n",
      "    Actual Output :\n",
      "    7\n",
      "\n",
      "    Test result :\n",
      "    PASSED\n",
      "    \n",
      "Input : \n",
      "    {'cards': [8, 8, 6, 6, 6, 6, 6, 6, 3, 2, 2, 2, 0, 0, 0], 'query': 6}\n",
      "\n",
      "    Expected Output :\n",
      "    2\n",
      "\n",
      "    Actual Output :\n",
      "    2\n",
      "\n",
      "    Test result :\n",
      "    PASSED\n",
      "    \n"
     ]
    }
   ],
   "source": [
    "evaluate_tests_case(tests, locate_card)"
   ]
  },
  {
   "cell_type": "markdown",
   "metadata": {},
   "source": [
    "Notre code passe tous les tests. Bien sûr, il peut y avoir d'autres cas de figure auxquels nous n'avons pas pensé et qui peuvent entraîner l'échec de la fonction. En connaissez-vous d'autres ?\n",
    "\n",
    "**Conseil** : Lors d'un véritable entretien ou d'une évaluation de codage, vous pouvez, pour gagner du temps, sauter l'étape de la mise en œuvre et du test de la solution par force brute. Il est généralement assez facile de déterminer la complexité de la solution par force brute à partir de la description en anglais."
   ]
  },
  {
   "cell_type": "markdown",
   "metadata": {},
   "source": [
    "### 5. Analysez la complexité de l'algorithme et identifiez les inefficacités éventuelles."
   ]
  },
  {
   "cell_type": "markdown",
   "metadata": {},
   "source": [
    "Exercice : Quel est la complexité de la solution ?"
   ]
  },
  {
   "cell_type": "markdown",
   "metadata": {},
   "source": [
    "### 6. Améliorer votre approche afin de réduire la complexité. Répéter les étapes 3 à 6."
   ]
  },
  {
   "cell_type": "markdown",
   "metadata": {},
   "source": [
    "Dans notre approche initiale, nous avons appliqué une méthode brute force sans tirer parti du fait que les cartes sont triées. Une stratégie plus efficace exploiterait cet ordre pour optimiser la recherche.\n",
    "\n",
    "##### La Recherche Binaire\n",
    "La recherche binaire est une technique efficace pour trouver un élément spécifique dans une **liste triée**. Plutôt que de parcourir chaque élément un par un (comme dans la recherche linéaire), la recherche binaire divise la liste en deux à chaque étape, éliminant ainsi la moitié des éléments restants à chaque fois.\n",
    "\n",
    "Exemple avec 8 éléments :\n",
    "\n",
    "Supposons que nous ayons une liste triée de 8 éléments :\n",
    "*1, 2, 3, 4, 5, 6, 7, 8*\n",
    "\n",
    "Si nous cherchons le nombre 7 :\n",
    "\n",
    "1. **Première étape** : Nous vérifions l'élément du milieu de la liste. Dans une liste de 8 éléments, l'élément du milieu serait le quatrième élément, qui est 4. Puisque 7 est plus grand que 4, nous éliminons la première moitié de la liste et continuons la recherche dans la seconde moitié : \n",
    "*5, 6, 7, 8*\n",
    "\n",
    "2. **Deuxième étape**: Nous vérifions à nouveau l'élément du milieu de cette sous-liste, qui est maintenant 6. Puisque 7 est plus grand que 6, nous éliminons la première moitié de cette sous-liste et continuons la recherche dans la seconde moitié : \n",
    "*7, 8*\n",
    "\n",
    "3. **Troisième étape** : L'élément restant qui est au \"milieu\" (en réalité le premier élément de cette sous-liste) est 7. Nous avons trouvé notre élément !\n",
    "\n",
    "\n",
    "La formule pour trouver l'indice de l'élément du milieu d'une liste (ou d'un tableau) est en effet basée sur la division par deux. Cependant, il s'agit d'une division entière (floor division), ce qui signifie que si le résultat n'est pas un entier, il sera arrondi à l'entier le plus proche en dessous.\n",
    "\n",
    "L'indice de l'élément du milieu *m* d'une liste de taille *n* peut être trouvé comme suit :\n",
    "\n",
    "    m = ⌊n/2⌋\n",
    "\n",
    "Les symboles **⌊⌋** représentent l'opération de \"floor\" ou \"arrondi vers le bas\". Lorsqu'ils entourent une expression mathématique, ils indiquent que le résultat doit être arrondi à l'entier le plus proche qui est inférieur ou égal à la valeur de cette expression. Les opérateurs qui entourent une expression et qui indiquent un arrondi vers le haut sont représentés par les symboles **⌈⌉**. Ce sont les opérateurs de \"ceiling\" ou \"arrondi vers le haut\". \n",
    "\n",
    "Par exemple, si la liste a une taille de 7 (un nombre impair), *m* sera :\n",
    "\n",
    "    m = ⌊7/2⌋ = 3\n",
    "\n",
    "Ce qui signifie que le quatrième élément (en utilisant une indexation basée sur zéro) est considéré comme l'élément du milieu.\n",
    "\n",
    "Si la liste a une taille de 8 (un nombre pair), *m* sera :\n",
    "\n",
    "    m = ⌊8/4⌋ = 4\n",
    "\n",
    "Dans ce cas, le cinquième élément est considéré comme l'élément du milieu.\n",
    "\n",
    "Ainsi, lors de l'utilisation de cette formule, nous obtenons toujours un indice valide pour l'élément du milieu, même si la liste a un nombre impair d'éléments. L'arrondi vers le bas garantit que nous obtenons toujours un indice entier pour l'élément du milieu."
   ]
  },
  {
   "cell_type": "markdown",
   "metadata": {},
   "source": [
    "![image](https://miro.medium.com/max/494/1*3eOrsoF9idyOp-0Ll9I9PA.png)\n",
    "\n",
    "Comme indiqué plus haut, nous allons répéter les étapes de 3 à 6"
   ]
  },
  {
   "cell_type": "markdown",
   "metadata": {},
   "source": [
    "### Etape 3 : Proposer une solution au problème en francais\n",
    "\n",
    "1. Trouvez l'élément central de la liste.\n",
    "2. S'il correspond au nombre demandé, renvoyer la position centrale comme réponse.\n",
    "3. S'il est inférieur au nombre demandé, rechercher la première moitié de la liste.\n",
    "4. S'il est supérieur au numéro demandé, rechercher dans la deuxième moitié de la liste.\n",
    "5. S'il ne reste plus d'éléments, le système renvoie -1."
   ]
  },
  {
   "cell_type": "markdown",
   "metadata": {},
   "source": [
    "### Etape 4 : Implémenter la solution et la tester à l'aide d'exemples d'inputs. Corrigez les bugs, le cas échéant."
   ]
  },
  {
   "cell_type": "code",
   "execution_count": 32,
   "metadata": {},
   "outputs": [],
   "source": [
    "def locate_card(cards, query):\n",
    "    lo, hi = 0, len(cards) - 1\n",
    "    \n",
    "    while lo <= hi:\n",
    "        mid = (lo + hi) // 2\n",
    "        mid_number = cards[mid]\n",
    "        \n",
    "        print(\"lo:\", lo, \", hi:\", hi, \", mid:\", mid, \", mid_number:\", mid_number)\n",
    "        \n",
    "        if mid_number == query:\n",
    "            return mid\n",
    "        elif mid_number < query:\n",
    "            hi = mid - 1  \n",
    "        elif mid_number > query:\n",
    "            lo = mid + 1\n",
    "    \n",
    "    return -1"
   ]
  },
  {
   "cell_type": "code",
   "execution_count": 33,
   "metadata": {},
   "outputs": [
    {
     "name": "stdout",
     "output_type": "stream",
     "text": [
      "lo: 0 , hi: 7 , mid: 3 , mid_number: 7\n",
      "Input : \n",
      "    {'cards': [13, 11, 10, 7, 4, 3, 1, 0], 'query': 7}\n",
      "\n",
      "    Expected Output :\n",
      "    3\n",
      "\n",
      "    Actual Output :\n",
      "    3\n",
      "\n",
      "    Test result :\n",
      "    PASSED\n",
      "    \n",
      "lo: 0 , hi: 7 , mid: 3 , mid_number: 7\n",
      "lo: 4 , hi: 7 , mid: 5 , mid_number: 3\n",
      "lo: 6 , hi: 7 , mid: 6 , mid_number: 1\n",
      "Input : \n",
      "    {'cards': [13, 11, 10, 7, 4, 3, 1, 0], 'query': 1}\n",
      "\n",
      "    Expected Output :\n",
      "    6\n",
      "\n",
      "    Actual Output :\n",
      "    6\n",
      "\n",
      "    Test result :\n",
      "    PASSED\n",
      "    \n",
      "lo: 0 , hi: 3 , mid: 1 , mid_number: 2\n",
      "lo: 0 , hi: 0 , mid: 0 , mid_number: 4\n",
      "Input : \n",
      "    {'cards': [4, 2, 1, -1], 'query': 4}\n",
      "\n",
      "    Expected Output :\n",
      "    0\n",
      "\n",
      "    Actual Output :\n",
      "    0\n",
      "\n",
      "    Test result :\n",
      "    PASSED\n",
      "    \n",
      "lo: 0 , hi: 3 , mid: 1 , mid_number: -1\n",
      "lo: 2 , hi: 3 , mid: 2 , mid_number: -9\n",
      "lo: 3 , hi: 3 , mid: 3 , mid_number: -127\n",
      "Input : \n",
      "    {'cards': [3, -1, -9, -127], 'query': -127}\n",
      "\n",
      "    Expected Output :\n",
      "    3\n",
      "\n",
      "    Actual Output :\n",
      "    3\n",
      "\n",
      "    Test result :\n",
      "    PASSED\n",
      "    \n",
      "lo: 0 , hi: 0 , mid: 0 , mid_number: 6\n",
      "Input : \n",
      "    {'cards': [6], 'query': 6}\n",
      "\n",
      "    Expected Output :\n",
      "    0\n",
      "\n",
      "    Actual Output :\n",
      "    0\n",
      "\n",
      "    Test result :\n",
      "    PASSED\n",
      "    \n",
      "lo: 0 , hi: 4 , mid: 2 , mid_number: 5\n",
      "lo: 3 , hi: 4 , mid: 3 , mid_number: 2\n",
      "Input : \n",
      "    {'cards': [9, 7, 5, 2, -9], 'query': 4}\n",
      "\n",
      "    Expected Output :\n",
      "    -1\n",
      "\n",
      "    Actual Output :\n",
      "    -1\n",
      "\n",
      "    Test result :\n",
      "    PASSED\n",
      "    \n",
      "Input : \n",
      "    {'cards': [], 'query': 7}\n",
      "\n",
      "    Expected Output :\n",
      "    -1\n",
      "\n",
      "    Actual Output :\n",
      "    -1\n",
      "\n",
      "    Test result :\n",
      "    PASSED\n",
      "    \n",
      "lo: 0 , hi: 13 , mid: 6 , mid_number: 6\n",
      "lo: 7 , hi: 13 , mid: 10 , mid_number: 2\n",
      "lo: 7 , hi: 9 , mid: 8 , mid_number: 2\n",
      "lo: 7 , hi: 7 , mid: 7 , mid_number: 3\n",
      "Input : \n",
      "    {'cards': [8, 8, 6, 6, 6, 6, 6, 3, 2, 2, 2, 0, 0, 0], 'query': 3}\n",
      "\n",
      "    Expected Output :\n",
      "    7\n",
      "\n",
      "    Actual Output :\n",
      "    7\n",
      "\n",
      "    Test result :\n",
      "    PASSED\n",
      "    \n",
      "lo: 0 , hi: 14 , mid: 7 , mid_number: 6\n",
      "Input : \n",
      "    {'cards': [8, 8, 6, 6, 6, 6, 6, 6, 3, 2, 2, 2, 0, 0, 0], 'query': 6}\n",
      "\n",
      "    Expected Output :\n",
      "    2\n",
      "\n",
      "    Actual Output :\n",
      "    7\n",
      "\n",
      "    Test result :\n",
      "    FAILED\n",
      "    \n"
     ]
    }
   ],
   "source": [
    "evaluate_tests_case(tests, locate_card)"
   ]
  },
  {
   "cell_type": "markdown",
   "metadata": {},
   "source": [
    "Tous les tests passent sauf le dernier. Nous avons trouvé le chiffre recherchée mais pas le premier de la liste. En effet, nous ne recherchons pas les valeurs d'une manière linéaire.\n",
    "\n",
    "Pour pallier le problème, on peut utiliser une fonction d'aide :"
   ]
  },
  {
   "cell_type": "code",
   "execution_count": 34,
   "metadata": {},
   "outputs": [],
   "source": [
    "def test_location(cards, query, mid):\n",
    "    mid_number = cards[mid]\n",
    "    print(\"mid:\", mid, \", mid_number:\", mid_number)\n",
    "    if mid_number == query:\n",
    "        if mid-1 >= 0 and cards[mid-1] == query:\n",
    "            return 'left'\n",
    "        else:\n",
    "            return 'found'\n",
    "    elif mid_number < query:\n",
    "        return 'left'\n",
    "    else:\n",
    "        return 'right'\n",
    "\n",
    "def locate_card(cards, query):\n",
    "    lo, hi = 0, len(cards) - 1\n",
    "    \n",
    "    while lo <= hi:\n",
    "        print(\"lo:\", lo, \", hi:\", hi)\n",
    "        mid = (lo + hi) // 2\n",
    "        result = test_location(cards, query, mid)\n",
    "        \n",
    "        if result == 'found':\n",
    "            return mid\n",
    "        elif result == 'left':\n",
    "            hi = mid - 1\n",
    "        elif result == 'right':\n",
    "            lo = mid + 1\n",
    "    return -1"
   ]
  },
  {
   "cell_type": "markdown",
   "metadata": {},
   "source": [
    "### 5. Analysez la complexité de l'algorithme et identifiez les inefficacités éventuelles."
   ]
  },
  {
   "cell_type": "markdown",
   "metadata": {},
   "source": [
    "Supposons que vous avez une liste triée de 8 éléments et que vous cherchez un nombre spécifique en utilisant la recherche binaire. Voici comment cela fonctionne :\n",
    "\n",
    "1. **Première Étape** : Vous commencez en comparant l'élément au milieu de la liste avec le nombre recherché. La liste est divisée en deux parties de 4 éléments.\n",
    "\n",
    "2. **Deuxième Étape** : Selon que le nombre recherché est plus grand ou plus petit que l'élément du milieu, vous sélectionnez la moitié correspondante de la liste. Maintenant, vous avez une nouvelle sous-liste de 4 éléments, que vous divisez encore en deux, laissant 2 éléments.\n",
    "\n",
    "3. **Troisième Étape** : Vous répétez le processus pour la sous-liste restante de 2 éléments, le divisant une fois de plus. À cette étape, vous êtes généralement capable de déterminer si le nombre recherché est présent ou non.\n",
    "\n",
    "Dans cet exemple, il a fallu 3 étapes pour terminer la recherche. Si on regarde la formule du logarithme, log<sub>2</sub>(8) donne effectivement 3, car \\(2^3 = 8\\). Cela montre que le nombre d'étapes nécessaires pour la recherche binaire est lié au logarithme en base 2 de la taille de la liste.\n",
    "\n",
    "Maintenant, pour prendre un peu de recul :\n",
    "\n",
    "- **L'Approximation en Notation Big O** : La notation Big O est une approximation. Lorsqu'on dit qu'un algorithme a une complexité de O(log(n)), cela signifie qu'à mesure que la taille de l'entrée *n* devient très grande, le nombre d'opérations nécessaires pour exécuter l'algorithme augmente à un taux qui peut être approximativement décrit par un logarithme.\n",
    "\n",
    "- **Ignorer les Constantes** : Dans l'analyse de la complexité, on ignore souvent les constantes et les termes de moindre importance. Cela signifie que si, en pratique, un algorithme prend O( log<sub>2</sub>(n) + 5 étapes, on dirait toujours qu'il a une complexité de O(\\log n), car les termes constants et linéaires deviennent insignifiants pour de très grandes valeurs de *n*.\n",
    "\n",
    "- **Ordre de Grandeur** : L'important est l'ordre de grandeur. Tant que la croissance du nombre d'étapes reste proche de la croissance d'une fonction logarithmique, on considère que l'algorithme a une complexité de O(log n). Cela permet une certaine flexibilité et une application pratique, même si la correspondance n'est pas toujours parfaite pour des petites valeurs de *n*."
   ]
  },
  {
   "cell_type": "code",
   "execution_count": 35,
   "metadata": {},
   "outputs": [
    {
     "name": "stdout",
     "output_type": "stream",
     "text": [
      "\n",
      "test\n",
      "liste_de_nombres = [1, 2, 3, 4, 5, 6, 7, 8, 9, 10]\n",
      "\n",
      "for nombre in liste_de_nombres:\n",
      "    print(nombre)\n",
      "def recherche_lineaire(liste, valeur_recherchee):\n",
      "    for i in range(len(liste)):\n",
      "        if liste[i] == valeur_recherchee:\n",
      "            return True\n",
      "    return False\n",
      "\n",
      "liste_de_nombres = [4, 2, 7, 1, 9, 3, 5]\n",
      "valeur = 5\n",
      "recherche_lineaire(liste_de_nombres, valeur)\n",
      "def print_items(n):\n",
      "    for i in range(n):  # Première boucle\n",
      "        for j in range(n):\n",
      "            print(i,j)\n",
      "\n",
      "print_items(4)\n",
      "def print_items(n):\n",
      "    for i in range(n):\n",
      "        for j in range(n):\n",
      "            print(i,j)\n",
      "\n",
      "    for i in range(n):\n",
      "        print(n)\n",
      "def add(n):\n",
      "    return n + n\n",
      "import numpy as np\n",
      "import matplotlib.pyplot as plt\n",
      "import seaborn as sns\n",
      "\n",
      "# Génération des données\n",
      "n = np.linspace(50, 1, 50)\n",
      "o_1 = np.ones_like(n)\n",
      "o_n = n\n",
      "o_n2 = n**2\n",
      "o_logn = np.log(n)\n",
      "\n",
      "# Mise en place du graphique\n",
      "sns.set_style(\"whitegrid\")\n",
      "plt.figure(figsize=(5, 3))\n",
      "\n",
      "plt.plot(n, o_1, label=\"O(1)\", linewidth=2)\n",
      "plt.plot(n, o_n, label=\"O(n)\", linewidth=2)\n",
      "plt.plot(n, o_n2, label=\"O(n^2)\", linewidth=2)\n",
      "plt.plot(n, o_logn, label=\"O(log n)\", linewidth=2)\n",
      "\n",
      "plt.legend()\n",
      "plt.ylabel(\"Opérations\")\n",
      "plt.xlabel(\"Taille de l'entrée (n)\")\n",
      "plt.title(\"Comparaison des Complexités\")\n",
      "plt.ylim(0, 50)  # Limiter l'axe des ordonnées pour mieux visualiser O(log n) et O(n)\n",
      "plt.show()\n",
      "def locate_card(cards, query):\n",
      "    pass\n",
      "cards = [13, 11, 10, 7, 4, 3, 1, 0]\n",
      "query = 7\n",
      "output = 3\n",
      "result = locate_card(cards, query)\n",
      "print(result)\n",
      "result == output\n",
      "test = {\n",
      "    'input': { \n",
      "        'cards': [13, 11, 10, 7, 4, 3, 1, 0], \n",
      "        'query': 7\n",
      "    },\n",
      "    'output': 3\n",
      "}\n",
      "locate_card(**test['input']) == test['output']\n",
      "tests = []\n",
      "\n",
      "# query occurs in the middle\n",
      "tests.append(test)\n",
      "\n",
      "tests.append({\n",
      "    'input': {\n",
      "        'cards': [13, 11, 10, 7, 4, 3, 1, 0],\n",
      "        'query': 1\n",
      "    },\n",
      "    'output': 6\n",
      "})\n",
      "\n",
      "# query is the first element\n",
      "tests.append({\n",
      "    'input': {\n",
      "        'cards': [4, 2, 1, -1],\n",
      "        'query': 4\n",
      "    },\n",
      "    'output': 0\n",
      "})\n",
      "\n",
      "# query is the last element\n",
      "tests.append({\n",
      "    'input': {\n",
      "        'cards': [3, -1, -9, -127],\n",
      "        'query': -127\n",
      "    },\n",
      "    'output': 3\n",
      "})\n",
      "\n",
      "# cards contains just one element, query\n",
      "tests.append({\n",
      "    'input': {\n",
      "        'cards': [6],\n",
      "        'query': 6\n",
      "    },\n",
      "    'output': 0 \n",
      "})\n",
      "# cards does not contain query \n",
      "tests.append({\n",
      "    'input': {\n",
      "        'cards': [9, 7, 5, 2, -9],\n",
      "        'query': 4\n",
      "    },\n",
      "    'output': -1\n",
      "})\n",
      "\n",
      "\n",
      "# cards is empty\n",
      "tests.append({\n",
      "    'input': {\n",
      "        'cards': [],\n",
      "        'query': 7\n",
      "    },\n",
      "    'output': -1\n",
      "})\n",
      "\n",
      "\n",
      "# numbers can repeat in cards\n",
      "tests.append({\n",
      "    'input': {\n",
      "        'cards': [8, 8, 6, 6, 6, 6, 6, 3, 2, 2, 2, 0, 0, 0],\n",
      "        'query': 3\n",
      "    },\n",
      "    'output': 7\n",
      "})\n",
      "# query occurs multiple times\n",
      "tests.append({\n",
      "    'input': {\n",
      "        'cards': [8, 8, 6, 6, 6, 6, 6, 6, 3, 2, 2, 2, 0, 0, 0],\n",
      "        'query': 6\n",
      "    },\n",
      "    'output': 2\n",
      "})\n",
      "tests\n",
      "def locate_card(cards, query):\n",
      "    # Create a variable position with the value 0\n",
      "    position = 0\n",
      "    \n",
      "    # Set up a loop for repetition\n",
      "    while True:\n",
      "        \n",
      "        # Check if element at the current position matche the query\n",
      "        if cards[position] == query:\n",
      "            \n",
      "            # Answer found! Return and exit..\n",
      "            return position\n",
      "        \n",
      "        # Increment the position\n",
      "        position += 1\n",
      "        \n",
      "        # Check if we have reached the end of the array\n",
      "        if position == len(cards):\n",
      "            \n",
      "            # Number not found, return -1\n",
      "            return -1\n",
      "\n",
      "test\n",
      "result = locate_card(test['input']['cards'], test['input']['query'])\n",
      "result\n",
      "result == test['output']\n",
      "tests[0]\n",
      "def evaluate_test_case(test_dict, func):\n",
      "    try:\n",
      "        output = func(**test_dict['input'])\n",
      "    except Exception as e:\n",
      "        output = str(e)\n",
      "\n",
      "    test_result = \"\"\n",
      "    if output == test_dict['output']:\n",
      "        test_result = \"PASSED\"\n",
      "    else : \n",
      "        test_result = \"FAILED\"\n",
      "\n",
      "    return f\"\"\"Input : \n",
      "    {test_dict['input']}\n",
      "\n",
      "    Expected Output :\n",
      "    {test_dict['output']}\n",
      "\n",
      "    Actual Output :\n",
      "    {output}\n",
      "\n",
      "    Test result :\n",
      "    {test_result}\n",
      "    \"\"\"\n",
      "print(evaluate_test_case(test, locate_card))\n",
      "def evaluate_tests_case(tests_list, func):\n",
      "    for test_case in tests_list:\n",
      "        print(evaluate_test_case(test_case, func))\n",
      "tests\n",
      "evaluate_tests_case(tests, locate_card)\n",
      "def locate_card(cards, query):\n",
      "    position = 0\n",
      "    while position < len(cards):\n",
      "        if cards[position] == query:\n",
      "            return position\n",
      "        position += 1\n",
      "    return -1\n",
      "tests[6]\n",
      "print(evaluate_test_case(tests[6], locate_card))\n",
      "evaluate_tests_case(tests, locate_card)\n",
      "def locate_card(cards, query):\n",
      "    lo, hi = 0, len(cards) - 1\n",
      "    \n",
      "    while lo <= hi:\n",
      "        mid = (lo + hi) // 2\n",
      "        mid_number = cards[mid]\n",
      "        \n",
      "        print(\"lo:\", lo, \", hi:\", hi, \", mid:\", mid, \", mid_number:\", mid_number)\n",
      "        \n",
      "        if mid_number == query:\n",
      "            return mid\n",
      "        elif mid_number < query:\n",
      "            hi = mid - 1  \n",
      "        elif mid_number > query:\n",
      "            lo = mid + 1\n",
      "    \n",
      "    return -1\n",
      "evaluate_tests_case(tests, locate_card)\n",
      "def test_location(cards, query, mid):\n",
      "    mid_number = cards[mid]\n",
      "    print(\"mid:\", mid, \", mid_number:\", mid_number)\n",
      "    if mid_number == query:\n",
      "        if mid-1 >= 0 and cards[mid-1] == query:\n",
      "            return 'left'\n",
      "        else:\n",
      "            return 'found'\n",
      "    elif mid_number < query:\n",
      "        return 'left'\n",
      "    else:\n",
      "        return 'right'\n",
      "\n",
      "def locate_card(cards, query):\n",
      "    lo, hi = 0, len(cards) - 1\n",
      "    \n",
      "    while lo <= hi:\n",
      "        print(\"lo:\", lo, \", hi:\", hi)\n",
      "        mid = (lo + hi) // 2\n",
      "        result = test_location(cards, query, mid)\n",
      "        \n",
      "        if result == 'found':\n",
      "            return mid\n",
      "        elif result == 'left':\n",
      "            hi = mid - 1\n",
      "        elif result == 'right':\n",
      "            lo = mid + 1\n",
      "    return -1\n",
      "%history\n"
     ]
    }
   ],
   "source": [
    "%history"
   ]
  },
  {
   "cell_type": "code",
   "execution_count": null,
   "metadata": {},
   "outputs": [],
   "source": []
  }
 ],
 "metadata": {
  "kernelspec": {
   "display_name": "venv",
   "language": "python",
   "name": "python3"
  },
  "language_info": {
   "codemirror_mode": {
    "name": "ipython",
    "version": 3
   },
   "file_extension": ".py",
   "mimetype": "text/x-python",
   "name": "python",
   "nbconvert_exporter": "python",
   "pygments_lexer": "ipython3",
   "version": "3.9.12"
  }
 },
 "nbformat": 4,
 "nbformat_minor": 2
}
